{
  "nbformat": 4,
  "nbformat_minor": 0,
  "metadata": {
    "colab": {
      "provenance": [],
      "collapsed_sections": []
    },
    "kernelspec": {
      "name": "python3",
      "display_name": "Python 3"
    },
    "language_info": {
      "name": "python"
    }
  },
  "cells": [
    {
      "cell_type": "markdown",
      "metadata": {
        "id": "IomjkHgqwz2H"
      },
      "source": [
        "# DASC5301 Data Science, Spring 2022, Chengkai Li, Unversity of Texas at Arlington\n",
        "# Programming Assignment 1\n",
        "# Due: Friday, March 11, 2022, 11:59pm\n"
      ]
    },
    {
      "cell_type": "markdown",
      "metadata": {
        "id": "VfXrQNxQ8a6b"
      },
      "source": [
        "## **Academic Honesty**\n",
        "This assignment must be done individually and independently. You must implement the whole assignment by yourself. Academic dishonesty is not tolerated."
      ]
    },
    {
      "cell_type": "markdown",
      "metadata": {
        "id": "FR3yeYVBiSp4"
      },
      "source": [
        "## **Requirements**\n",
        "\n",
        "1. When you work on this assignment, you should make a copy of this notebook in Google Colab. This can be done using the option `File > Save a copy in Drive` in Google Colab. \n",
        "\n",
        "2. You should fill in your answer for each task inside the code block right under the task. \n",
        "\n",
        "3. You should only insert your code into the designated code blocks, as mentioned above. Other than that, you shouldn't change anything else in the notebook, unless otherwise instructed.\n",
        "\n",
        "4.  For each code block, you are free to use multiple lines of code. \n",
        "\n",
        "5.   Even if you can only partially solve a task, you should include your code in the code block, which allows us to consider partial credit. \n",
        "\n",
        "6.   However, your code should not raise errors. Any code raising errors will not get partial credit. \n",
        "\n",
        "7.   We will test your code in Google Colab. Make sure your code runs in Google Colab.\n",
        "\n",
        "8. Note that, although the code blocks are empty, you can see some outputs. These are outputs from our previous execution of the code, for your reference. If you run the Colab again without filling in the correct code, you will not see these outputs. You can always refer to the original assignment Colab to see these outputs. \n",
        "\n",
        "9. For classification, you are expected to use `scikit-learn` (http://scikit-learn.org/stable/supervised_learning.html#supervised-learning). Refer to our Colab on classification for a tutorial of how to use scikit-learn to build classification models. The Colab has been on the Syllabus page and has been explained during lectures [(its link)](https://colab.research.google.com/drive/1Mw-f0UB72GMdw6C6G9legcyxIiDBWjFg). You can also refer to our Colab on Linear Model [(its link)](https://colab.research.google.com/drive/18hXzJCPuLa6bLxIA2BuCD20w8EOnuKM7?usp=sharing).\n",
        "\n",
        "10. To submit your assignment, download your Colab into a .ipynb file. This can be done using the option `Download > Download .ipynb` in Google Colab.\n",
        "\n",
        "11. Submit the downloaded .ipynb file into the Programming Assignment 1 entry in Canvas."
      ]
    },
    {
      "cell_type": "markdown",
      "source": [
        "## **Task 1: Compute the distance between data points (28 points)**"
      ],
      "metadata": {
        "id": "Byp6eeLIT_GH"
      }
    },
    {
      "cell_type": "markdown",
      "source": [
        "This task uses a set of 10 data points, as given by the code block below. The numerical features of these data points are stored in a pandas `DataFrame` with the name `data`. The features are given the column names `x` and `y`. Their class labels are in a list `class_labels`. For example, the label of data point `[9,2]` is 1. "
      ],
      "metadata": {
        "id": "Gzad1i2u3QCk"
      }
    },
    {
      "cell_type": "code",
      "source": [
        "import pandas as pd\n",
        "\n",
        "data = pd.DataFrame([[9,2], [2,3], [3,8], [4,4], [5,1], [6,7], [7,9], [8,4], [9,5], [4,7]], columns=[\"x\",\"y\"])\n",
        "class_labels = [1, 1, 2, 1, 1, 2, 2, 2, 1, 2]"
      ],
      "metadata": {
        "id": "EgMmROm6Gnll"
      },
      "execution_count": null,
      "outputs": []
    },
    {
      "cell_type": "markdown",
      "source": [
        "**(1.1)** - Write a piece of code to plot the 10-point dataset in a scatter plot using the `matplotlib` library  (https://matplotlib.org/3.5.1/api/_as_gen/matplotlib.pyplot.scatter.html). Points in class 1 should be shown in orange color and those in class 2 should be in blue. Furthermore, show a new data point `[5,6]` in red. \n",
        "\n",
        "The code block below already provides the first several lines and the last line. Don't change these lines. Instead, fill in your code between them. \n",
        "\n",
        "The code on this page can give you some ideas about how to plot points in different colors https://www.codegrepper.com/code-examples/python/how+to+plot+two+different+class+in+different+colour+in+python. \n",
        "\n",
        "(6 points)"
      ],
      "metadata": {
        "id": "XJqqaSuQVl5h"
      }
    },
    {
      "cell_type": "code",
      "source": [
        "# Code for 1.1\n",
        "import matplotlib\n",
        "import matplotlib.pyplot as plt\n",
        "\n",
        "plt.figure(figsize=(5, 5))  \n",
        "plt.xlim(0, 10)\n",
        "plt.ylim(0, 10)\n",
        "# DO NOT CHANGE ANYTHING ABOVE. FILL IN YOUR CODE BELOW.\n",
        "colors = ['tab:orange','blue'] #considering colorsfor data points\n",
        "plt.scatter(data['x'],data['y'], c=class_labels, cmap=matplotlib.colors.ListedColormap(colors))\n",
        "label = ['red']\n",
        "plt.scatter(x=5,y=6,c=label, cmap=matplotlib.colors.ListedColormap(colors))\n",
        "\n",
        "# DO NOT CHANGE ANYTHING BELOW. FILL IN YOUR CODE ABOVE.\n",
        "plt.show()"
      ],
      "metadata": {
        "id": "mvHvIGqsWCEO",
        "colab": {
          "base_uri": "https://localhost:8080/",
          "height": 324
        },
        "outputId": "0e6c8f68-daca-4407-efe7-5abd3572ad43"
      },
      "execution_count": null,
      "outputs": [
        {
          "output_type": "display_data",
          "data": {
            "text/plain": [
              "<Figure size 360x360 with 1 Axes>"
            ],
            "image/png": "[encoded data removed]"
          },
          "metadata": {
            "needs_background": "light"
          }
        }
      ]
    },
    {
      "cell_type": "markdown",
      "source": [
        " **(1.2)** - Write a piece of code to compute the Euclidean distance between the new data point `[5,6]` and all 10 points in the dataset. Save the distances in a list named `distances`. Note that you are required to implement the Euclidean distance function, and you are not allowed to use any existing implementation of it in any Python library. \n",
        " \n",
        "The code block below already provides the first line and the last several lines, in order to print out the values in the list `distances`. You are supposed to fill in your code inside the block. Your output should be essentially the same as the output under the code block below. \n",
        "\n",
        "(10 points)"
      ],
      "metadata": {
        "id": "kicuqaZQTeuw"
      }
    },
    {
      "cell_type": "code",
      "source": [
        "# Code for 1.2\n",
        "import numpy as np \n",
        "# DO NOT CHANGE ANYTHING ABOVE. FILL IN YOUR CODE BELOW.\n",
        "def Euclidian_distance(x1,y1): #function which calculates the euclidina distance using the formula\n",
        "    return (((5-x1)**2) + ((6-y1)**2))**0.5\n",
        "\n",
        "distances=[]\n",
        "for i in range(0,len(data)):\n",
        "    distances.append(Euclidian_distance(data['x'][i],data['y'][i])) # adding the distance between the eacah points to list\n",
        "\n",
        "\n",
        "# DO NOT CHANGE ANYTHING BELOW. FILL IN YOUR CODE ABOVE.\n",
        "np.set_printoptions(precision=3)\n",
        "print(np.array(distances))"
      ],
      "metadata": {
        "id": "eDVoe9aoUbkW",
        "colab": {
          "base_uri": "https://localhost:8080/"
        },
        "outputId": "75ffe4ab-4410-45ee-d6d3-26a027a71fba"
      },
      "execution_count": null,
      "outputs": [
        {
          "output_type": "stream",
          "name": "stdout",
          "text": [
            "[5.657 4.243 2.828 2.236 5.    1.414 3.606 3.606 4.123 1.414]\n"
          ]
        }
      ]
    },
    {
      "cell_type": "markdown",
      "source": [
        "**(1.3)** - Using the 10-point dataset, find the class label for the new data point `[5,6]` by applying the idea of 3-nearest neighbor classification. Save its class label in a variable `class_label`. Judging by the plot from (1.1), you can tell this point should be classified as blue, i.e., class 2. \n",
        "\n",
        "Note that you are required to implement 3-nearest neighbor classification for `[5,6]`, instead of calling any existing implementation. \n",
        "\n",
        "The code block below already provides the first line and the last line. The first line is to hard-code the content of `distances` so that you can successfully work on this task even if you couldn't manage to accomplish (1.2). The last line prints out the class label of the new data point. Your output should be the same.\n",
        "\n",
        "(12 points)"
      ],
      "metadata": {
        "id": "QNOJSncvkM5r"
      }
    },
    {
      "cell_type": "code",
      "source": [
        "# Code for 1.3\n",
        "distances = [5.657, 4.243, 2.828, 2.236, 5, 1.414, 3.606, 3.606, 4.123, 1.414]\n",
        "# DO NOT CHANGE ANYTHING ABOVE. FILL IN YOUR CODE BELOW.\n",
        "data = pd.DataFrame(distances,columns=['distances']) #creating the dataframe for distances\n",
        "data['class_labels'] = class_labels # adding the class lables to the created dataframe\n",
        "data.sort_values(by=['distances'],inplace=True) #sorting the distance from Descending order so we can easily classify with respect to number of neighbours\n",
        "data_1 = data.head(3) #since we need apply 3 nearest neighbours,i have taken first 3 shortest distance\n",
        "class_label =data_1['class_labels'].value_counts().idxmax() #which class rhas majority,given point should be in that class\n",
        "\n",
        "\n",
        "# DO NOT CHANGE ANYTHING BELOW. FILL IN YOUR CODE ABOVE.\n",
        "print(\"class label : \", class_label)"
      ],
      "metadata": {
        "colab": {
          "base_uri": "https://localhost:8080/"
        },
        "id": "25W6FimDkMhe",
        "outputId": "59ff79d9-f1c2-4d44-cd72-182a0d584661"
      },
      "execution_count": null,
      "outputs": [
        {
          "output_type": "stream",
          "name": "stdout",
          "text": [
            "class label :  2\n"
          ]
        }
      ]
    },
    {
      "cell_type": "markdown",
      "metadata": {
        "id": "VE5MRfJg33ZR"
      },
      "source": [
        "## **Task 2: Exploratory Data Analysis (EDA) (24 points)**"
      ]
    },
    {
      "cell_type": "markdown",
      "metadata": {
        "id": "Fury7gkuighm"
      },
      "source": [
        "**(2.1)** - We will explore a dataset about airplane tickets. This dataset has close to five thousand rows and 7 columns. The dataset is provided as a CSV file `tickets.csv` in this [link](https://drive.google.com/uc?export=download&id=1GKrAzMQnQLsWlIY0e8PttKHmjC7Bb3kh). Fetch this file using `wget` and load it into a pandas `DataFrame` named `tickets`. The code block below provides the first two lines, including using `wget` to fetch the file. (4 points)"
      ]
    },
    {
      "cell_type": "code",
      "metadata": {
        "id": "N7wTresvdVWl",
        "colab": {
          "base_uri": "https://localhost:8080/"
        },
        "outputId": "56634649-3a3e-459e-f90c-57ac58035cf1"
      },
      "source": [
        "# Code for 2.1\n",
        "import pandas as pd\n",
        "!wget -O tickets.csv \"https://drive.google.com/uc?export=download&id=1GKrAzMQnQLsWlIY0e8PttKHmjC7Bb3kh\"\n",
        "# DO NOT CHANGE ANYTHING ABOVE. FILL IN YOUR CODE BELOW.\n",
        "tickets = pd.read_csv(\"tickets.csv\") #reading the inpput data\n",
        "\n",
        "\n",
        "\n"
      ],
      "execution_count": null,
      "outputs": [
        {
          "output_type": "stream",
          "name": "stdout",
          "text": [
            "--2022-03-12 00:54:40--  https://drive.google.com/uc?export=download&id=1GKrAzMQnQLsWlIY0e8PttKHmjC7Bb3kh\n",
            "Resolving drive.google.com (drive.google.com)... 172.217.9.206, 2607:f8b0:4004:82f::200e\n",
            "Connecting to drive.google.com (drive.google.com)|172.217.9.206|:443... connected.\n",
            "HTTP request sent, awaiting response... 303 See Other\n",
            "Location: https://doc-10-78-docs.googleusercontent.com/docs/securesc/ha0ro937gcuc7l7deffksulhg5h7mbp1/pf7m1f8je0l1qe7mc7c20fvep7efgo4q/1647046425000/15814610165147367942/*/1GKrAzMQnQLsWlIY0e8PttKHmjC7Bb3kh?e=download [following]\n",
            "Warning: wildcards not supported in HTTP.\n",
            "--2022-03-12 00:54:40--  https://doc-10-78-docs.googleusercontent.com/docs/securesc/ha0ro937gcuc7l7deffksulhg5h7mbp1/pf7m1f8je0l1qe7mc7c20fvep7efgo4q/1647046425000/15814610165147367942/*/1GKrAzMQnQLsWlIY0e8PttKHmjC7Bb3kh?e=download\n",
            "Resolving doc-10-78-docs.googleusercontent.com (doc-10-78-docs.googleusercontent.com)... 142.251.45.97, 2607:f8b0:4004:83f::2001\n",
            "Connecting to doc-10-78-docs.googleusercontent.com (doc-10-78-docs.googleusercontent.com)|142.251.45.97|:443... connected.\n",
            "HTTP request sent, awaiting response... 200 OK\n",
            "Length: 205275 (200K) [text/csv]\n",
            "Saving to: ‘tickets.csv’\n",
            "\n",
            "tickets.csv         100%[===================>] 200.46K  --.-KB/s    in 0.03s   \n",
            "\n",
            "2022-03-12 00:54:40 (7.02 MB/s) - ‘tickets.csv’ saved [205275/205275]\n",
            "\n"
          ]
        }
      ]
    },
    {
      "cell_type": "markdown",
      "metadata": {
        "id": "giMp_zPSonsw"
      },
      "source": [
        "Now let's look at the first 20 rows of the data. If your code block for 2.1 was correct, you should see the same output below. "
      ]
    },
    {
      "cell_type": "code",
      "metadata": {
        "colab": {
          "base_uri": "https://localhost:8080/",
          "height": 676
        },
        "id": "05Wxqk05qeVq",
        "outputId": "1294a3d6-ed45-4f7c-866b-3b4deb9be286"
      },
      "source": [
        "tickets.head(20)"
      ],
      "execution_count": null,
      "outputs": [
        {
          "output_type": "execute_result",
          "data": {
            "text/plain": [
              "    Stops       Website Booked_on Destination Depart_date Airline      Price\n",
              "0       5  KupiBilet.ru    2/7/22         YTO     4/30/22      WS  Expensive\n",
              "1       4  KupiBilet.ru    2/8/22         ECN     2/27/22      DP      Cheap\n",
              "2       4  KupiBilet.ru    2/5/22         GYE     4/10/22      AV  Expensive\n",
              "3       4  KupiBilet.ru    2/8/22         YVR     5/11/22      WS  Expensive\n",
              "4       4  KupiBilet.ru    2/9/22         LIM     5/11/22      AM  Expensive\n",
              "5       4  KupiBilet.ru    2/8/22         YVR     7/17/22      WS  Expensive\n",
              "6       4  KupiBilet.ru    2/7/22         YQB      7/1/22      WS  Expensive\n",
              "7       4  KupiBilet.ru    2/7/22         YVR      6/7/22      WS  Expensive\n",
              "8       4  KupiBilet.ru    2/5/22         AHB     6/19/22      5W  Expensive\n",
              "9       4  KupiBilet.ru    2/7/22         YVR     11/1/22      WS  Expensive\n",
              "10      4  KupiBilet.ru    2/8/22         RIO     6/21/22      AF  Expensive\n",
              "11      4  KupiBilet.ru    2/6/22         UIO     8/15/22      AV  Expensive\n",
              "12      4  KupiBilet.ru    2/8/22         GYE     8/22/22      AV  Expensive\n",
              "13      4  KupiBilet.ru    2/7/22         SDQ     11/1/22      TK  Expensive\n",
              "14      4   MEGO.travel    2/5/22         MBJ     12/1/22      TK  Expensive\n",
              "15      4  KupiBilet.ru    2/5/22         YLW     8/20/22      WS  Expensive\n",
              "16      4  KupiBilet.ru    2/5/22         RIO    10/26/22      AF  Expensive\n",
              "17      4  KupiBilet.ru    2/9/22         CUZ     10/1/22      AM  Expensive\n",
              "18      4   MEGO.travel    2/6/22         MBJ      8/3/22      TK  Expensive\n",
              "19      4  KupiBilet.ru    2/8/22         RIO    11/18/22      AF  Expensive"
            ],
            "text/html": [
              "\n",
              "  <div id=\"df-7142c477-9ce4-497f-831e-9c21360c5ae8\">\n",
              "    <div class=\"colab-df-container\">\n",
              "      <div>\n",
              "<style scoped>\n",
              "    .dataframe tbody tr th:only-of-type {\n",
              "        vertical-align: middle;\n",
              "    }\n",
              "\n",
              "    .dataframe tbody tr th {\n",
              "        vertical-align: top;\n",
              "    }\n",
              "\n",
              "    .dataframe thead th {\n",
              "        text-align: right;\n",
              "    }\n",
              "</style>\n",
              "<table border=\"1\" class=\"dataframe\">\n",
              "  <thead>\n",
              "    <tr style=\"text-align: right;\">\n",
              "      <th></th>\n",
              "      <th>Stops</th>\n",
              "      <th>Website</th>\n",
              "      <th>Booked_on</th>\n",
              "      <th>Destination</th>\n",
              "      <th>Depart_date</th>\n",
              "      <th>Airline</th>\n",
              "      <th>Price</th>\n",
              "    </tr>\n",
              "  </thead>\n",
              "  <tbody>\n",
              "    <tr>\n",
              "      <th>0</th>\n",
              "      <td>5</td>\n",
              "      <td>KupiBilet.ru</td>\n",
              "      <td>2/7/22</td>\n",
              "      <td>YTO</td>\n",
              "      <td>4/30/22</td>\n",
              "      <td>WS</td>\n",
              "      <td>Expensive</td>\n",
              "    </tr>\n",
              "    <tr>\n",
              "      <th>1</th>\n",
              "      <td>4</td>\n",
              "      <td>KupiBilet.ru</td>\n",
              "      <td>2/8/22</td>\n",
              "      <td>ECN</td>\n",
              "      <td>2/27/22</td>\n",
              "      <td>DP</td>\n",
              "      <td>Cheap</td>\n",
              "    </tr>\n",
              "    <tr>\n",
              "      <th>2</th>\n",
              "      <td>4</td>\n",
              "      <td>KupiBilet.ru</td>\n",
              "      <td>2/5/22</td>\n",
              "      <td>GYE</td>\n",
              "      <td>4/10/22</td>\n",
              "      <td>AV</td>\n",
              "      <td>Expensive</td>\n",
              "    </tr>\n",
              "    <tr>\n",
              "      <th>3</th>\n",
              "      <td>4</td>\n",
              "      <td>KupiBilet.ru</td>\n",
              "      <td>2/8/22</td>\n",
              "      <td>YVR</td>\n",
              "      <td>5/11/22</td>\n",
              "      <td>WS</td>\n",
              "      <td>Expensive</td>\n",
              "    </tr>\n",
              "    <tr>\n",
              "      <th>4</th>\n",
              "      <td>4</td>\n",
              "      <td>KupiBilet.ru</td>\n",
              "      <td>2/9/22</td>\n",
              "      <td>LIM</td>\n",
              "      <td>5/11/22</td>\n",
              "      <td>AM</td>\n",
              "      <td>Expensive</td>\n",
              "    </tr>\n",
              "    <tr>\n",
              "      <th>5</th>\n",
              "      <td>4</td>\n",
              "      <td>KupiBilet.ru</td>\n",
              "      <td>2/8/22</td>\n",
              "      <td>YVR</td>\n",
              "      <td>7/17/22</td>\n",
              "      <td>WS</td>\n",
              "      <td>Expensive</td>\n",
              "    </tr>\n",
              "    <tr>\n",
              "      <th>6</th>\n",
              "      <td>4</td>\n",
              "      <td>KupiBilet.ru</td>\n",
              "      <td>2/7/22</td>\n",
              "      <td>YQB</td>\n",
              "      <td>7/1/22</td>\n",
              "      <td>WS</td>\n",
              "      <td>Expensive</td>\n",
              "    </tr>\n",
              "    <tr>\n",
              "      <th>7</th>\n",
              "      <td>4</td>\n",
              "      <td>KupiBilet.ru</td>\n",
              "      <td>2/7/22</td>\n",
              "      <td>YVR</td>\n",
              "      <td>6/7/22</td>\n",
              "      <td>WS</td>\n",
              "      <td>Expensive</td>\n",
              "    </tr>\n",
              "    <tr>\n",
              "      <th>8</th>\n",
              "      <td>4</td>\n",
              "      <td>KupiBilet.ru</td>\n",
              "      <td>2/5/22</td>\n",
              "      <td>AHB</td>\n",
              "      <td>6/19/22</td>\n",
              "      <td>5W</td>\n",
              "      <td>Expensive</td>\n",
              "    </tr>\n",
              "    <tr>\n",
              "      <th>9</th>\n",
              "      <td>4</td>\n",
              "      <td>KupiBilet.ru</td>\n",
              "      <td>2/7/22</td>\n",
              "      <td>YVR</td>\n",
              "      <td>11/1/22</td>\n",
              "      <td>WS</td>\n",
              "      <td>Expensive</td>\n",
              "    </tr>\n",
              "    <tr>\n",
              "      <th>10</th>\n",
              "      <td>4</td>\n",
              "      <td>KupiBilet.ru</td>\n",
              "      <td>2/8/22</td>\n",
              "      <td>RIO</td>\n",
              "      <td>6/21/22</td>\n",
              "      <td>AF</td>\n",
              "      <td>Expensive</td>\n",
              "    </tr>\n",
              "    <tr>\n",
              "      <th>11</th>\n",
              "      <td>4</td>\n",
              "      <td>KupiBilet.ru</td>\n",
              "      <td>2/6/22</td>\n",
              "      <td>UIO</td>\n",
              "      <td>8/15/22</td>\n",
              "      <td>AV</td>\n",
              "      <td>Expensive</td>\n",
              "    </tr>\n",
              "    <tr>\n",
              "      <th>12</th>\n",
              "      <td>4</td>\n",
              "      <td>KupiBilet.ru</td>\n",
              "      <td>2/8/22</td>\n",
              "      <td>GYE</td>\n",
              "      <td>8/22/22</td>\n",
              "      <td>AV</td>\n",
              "      <td>Expensive</td>\n",
              "    </tr>\n",
              "    <tr>\n",
              "      <th>13</th>\n",
              "      <td>4</td>\n",
              "      <td>KupiBilet.ru</td>\n",
              "      <td>2/7/22</td>\n",
              "      <td>SDQ</td>\n",
              "      <td>11/1/22</td>\n",
              "      <td>TK</td>\n",
              "      <td>Expensive</td>\n",
              "    </tr>\n",
              "    <tr>\n",
              "      <th>14</th>\n",
              "      <td>4</td>\n",
              "      <td>MEGO.travel</td>\n",
              "      <td>2/5/22</td>\n",
              "      <td>MBJ</td>\n",
              "      <td>12/1/22</td>\n",
              "      <td>TK</td>\n",
              "      <td>Expensive</td>\n",
              "    </tr>\n",
              "    <tr>\n",
              "      <th>15</th>\n",
              "      <td>4</td>\n",
              "      <td>KupiBilet.ru</td>\n",
              "      <td>2/5/22</td>\n",
              "      <td>YLW</td>\n",
              "      <td>8/20/22</td>\n",
              "      <td>WS</td>\n",
              "      <td>Expensive</td>\n",
              "    </tr>\n",
              "    <tr>\n",
              "      <th>16</th>\n",
              "      <td>4</td>\n",
              "      <td>KupiBilet.ru</td>\n",
              "      <td>2/5/22</td>\n",
              "      <td>RIO</td>\n",
              "      <td>10/26/22</td>\n",
              "      <td>AF</td>\n",
              "      <td>Expensive</td>\n",
              "    </tr>\n",
              "    <tr>\n",
              "      <th>17</th>\n",
              "      <td>4</td>\n",
              "      <td>KupiBilet.ru</td>\n",
              "      <td>2/9/22</td>\n",
              "      <td>CUZ</td>\n",
              "      <td>10/1/22</td>\n",
              "      <td>AM</td>\n",
              "      <td>Expensive</td>\n",
              "    </tr>\n",
              "    <tr>\n",
              "      <th>18</th>\n",
              "      <td>4</td>\n",
              "      <td>MEGO.travel</td>\n",
              "      <td>2/6/22</td>\n",
              "      <td>MBJ</td>\n",
              "      <td>8/3/22</td>\n",
              "      <td>TK</td>\n",
              "      <td>Expensive</td>\n",
              "    </tr>\n",
              "    <tr>\n",
              "      <th>19</th>\n",
              "      <td>4</td>\n",
              "      <td>KupiBilet.ru</td>\n",
              "      <td>2/8/22</td>\n",
              "      <td>RIO</td>\n",
              "      <td>11/18/22</td>\n",
              "      <td>AF</td>\n",
              "      <td>Expensive</td>\n",
              "    </tr>\n",
              "  </tbody>\n",
              "</table>\n",
              "</div>\n",
              "      <button class=\"colab-df-convert\" onclick=\"convertToInteractive('df-7142c477-9ce4-497f-831e-9c21360c5ae8')\"\n",
              "              title=\"Convert this dataframe to an interactive table.\"\n",
              "              style=\"display:none;\">\n",
              "        \n",
              "  <svg xmlns=\"http://www.w3.org/2000/svg\" height=\"24px\"viewBox=\"0 0 24 24\"\n",
              "       width=\"24px\">\n",
              "    <path d=\"M0 0h24v24H0V0z\" fill=\"none\"/>\n",
              "    <path d=\"M18.56 5.44l.94 2.06.94-2.06 2.06-.94-2.06-.94-.94-2.06-.94 2.06-2.06.94zm-11 1L8.5 8.5l.94-2.06 2.06-.94-2.06-.94L8.5 2.5l-.94 2.06-2.06.94zm10 10l.94 2.06.94-2.06 2.06-.94-2.06-.94-.94-2.06-.94 2.06-2.06.94z\"/><path d=\"M17.41 7.96l-1.37-1.37c-.4-.4-.92-.59-1.43-.59-.52 0-1.04.2-1.43.59L10.3 9.45l-7.72 7.72c-.78.78-.78 2.05 0 2.83L4 21.41c.39.39.9.59 1.41.59.51 0 1.02-.2 1.41-.59l7.78-7.78 2.81-2.81c.8-.78.8-2.07 0-2.86zM5.41 20L4 18.59l7.72-7.72 1.47 1.35L5.41 20z\"/>\n",
              "  </svg>\n",
              "      </button>\n",
              "      \n",
              "  <style>\n",
              "    .colab-df-container {\n",
              "      display:flex;\n",
              "      flex-wrap:wrap;\n",
              "      gap: 12px;\n",
              "    }\n",
              "\n",
              "    .colab-df-convert {\n",
              "      background-color: #E8F0FE;\n",
              "      border: none;\n",
              "      border-radius: 50%;\n",
              "      cursor: pointer;\n",
              "      display: none;\n",
              "      fill: #1967D2;\n",
              "      height: 32px;\n",
              "      padding: 0 0 0 0;\n",
              "      width: 32px;\n",
              "    }\n",
              "\n",
              "    .colab-df-convert:hover {\n",
              "      background-color: #E2EBFA;\n",
              "      box-shadow: 0px 1px 2px rgba(60, 64, 67, 0.3), 0px 1px 3px 1px rgba(60, 64, 67, 0.15);\n",
              "      fill: #174EA6;\n",
              "    }\n",
              "\n",
              "    [theme=dark] .colab-df-convert {\n",
              "      background-color: #3B4455;\n",
              "      fill: #D2E3FC;\n",
              "    }\n",
              "\n",
              "    [theme=dark] .colab-df-convert:hover {\n",
              "      background-color: #434B5C;\n",
              "      box-shadow: 0px 1px 3px 1px rgba(0, 0, 0, 0.15);\n",
              "      filter: drop-shadow(0px 1px 2px rgba(0, 0, 0, 0.3));\n",
              "      fill: #FFFFFF;\n",
              "    }\n",
              "  </style>\n",
              "\n",
              "      <script>\n",
              "        const buttonEl =\n",
              "          document.querySelector('#df-7142c477-9ce4-497f-831e-9c21360c5ae8 button.colab-df-convert');\n",
              "        buttonEl.style.display =\n",
              "          google.colab.kernel.accessAllowed ? 'block' : 'none';\n",
              "\n",
              "        async function convertToInteractive(key) {\n",
              "          const element = document.querySelector('#df-7142c477-9ce4-497f-831e-9c21360c5ae8');\n",
              "          const dataTable =\n",
              "            await google.colab.kernel.invokeFunction('convertToInteractive',\n",
              "                                                     [key], {});\n",
              "          if (!dataTable) return;\n",
              "\n",
              "          const docLinkHtml = 'Like what you see? Visit the ' +\n",
              "            '<a target=\"_blank\" href=https://colab.research.google.com/notebooks/data_table.ipynb>data table notebook</a>'\n",
              "            + ' to learn more about interactive tables.';\n",
              "          element.innerHTML = '';\n",
              "          dataTable['output_type'] = 'display_data';\n",
              "          await google.colab.output.renderOutput(dataTable, element);\n",
              "          const docLink = document.createElement('div');\n",
              "          docLink.innerHTML = docLinkHtml;\n",
              "          element.appendChild(docLink);\n",
              "        }\n",
              "      </script>\n",
              "    </div>\n",
              "  </div>\n",
              "  "
            ]
          },
          "metadata": {},
          "execution_count": 98
        }
      ]
    },
    {
      "cell_type": "markdown",
      "metadata": {
        "id": "ZeHJOzvDnzwN"
      },
      "source": [
        "Let's gain some basic understanding of the dataset by using `info()`."
      ]
    },
    {
      "cell_type": "code",
      "metadata": {
        "colab": {
          "base_uri": "https://localhost:8080/"
        },
        "id": "dnrTKoUVbQHf",
        "outputId": "66d49fea-c978-4b39-aaa8-b90a4f3c958e"
      },
      "source": [
        "tickets.info()"
      ],
      "execution_count": null,
      "outputs": [
        {
          "output_type": "stream",
          "name": "stdout",
          "text": [
            "<class 'pandas.core.frame.DataFrame'>\n",
            "RangeIndex: 4732 entries, 0 to 4731\n",
            "Data columns (total 7 columns):\n",
            " #   Column       Non-Null Count  Dtype \n",
            "---  ------       --------------  ----- \n",
            " 0   Stops        4732 non-null   int64 \n",
            " 1   Website      4732 non-null   object\n",
            " 2   Booked_on    4732 non-null   object\n",
            " 3   Destination  4732 non-null   object\n",
            " 4   Depart_date  4732 non-null   object\n",
            " 5   Airline      4732 non-null   object\n",
            " 6   Price        4732 non-null   object\n",
            "dtypes: int64(1), object(6)\n",
            "memory usage: 258.9+ KB\n"
          ]
        }
      ]
    },
    {
      "cell_type": "markdown",
      "metadata": {
        "id": "ZaV8Wyrjposk"
      },
      "source": [
        "**(2.2)** - We will make `Price` the class attribute. Now let's find out all the distinct values in this column. (4 points)"
      ]
    },
    {
      "cell_type": "code",
      "metadata": {
        "colab": {
          "base_uri": "https://localhost:8080/"
        },
        "id": "q11iPw2-pyfg",
        "outputId": "10f41767-8e89-408f-df06-6d9200004119"
      },
      "source": [
        "# Code for 2.2\n",
        "tickets['Price'].unique() #will get the uniques values "
      ],
      "execution_count": null,
      "outputs": [
        {
          "output_type": "execute_result",
          "data": {
            "text/plain": [
              "array(['Expensive', 'Cheap', 'Average'], dtype=object)"
            ]
          },
          "metadata": {},
          "execution_count": 100
        }
      ]
    },
    {
      "cell_type": "markdown",
      "source": [
        "**(2.3)** - Show how many data entries there are in each class, i.e., the number of tickets booked in each price range. (4 points)"
      ],
      "metadata": {
        "id": "On80KmxCQ2I6"
      }
    },
    {
      "cell_type": "code",
      "source": [
        "# Code for 2.3\n",
        "tickets['Price'].value_counts() #it helps us to get to know about the sum of values in different class\n",
        "\n"
      ],
      "metadata": {
        "id": "Za6VbzuTRFuB",
        "colab": {
          "base_uri": "https://localhost:8080/"
        },
        "outputId": "c4c863fd-b969-40ab-9b5c-0d5c62c30720"
      },
      "execution_count": null,
      "outputs": [
        {
          "output_type": "execute_result",
          "data": {
            "text/plain": [
              "Cheap        1780\n",
              "Average      1535\n",
              "Expensive    1417\n",
              "Name: Price, dtype: int64"
            ]
          },
          "metadata": {},
          "execution_count": 101
        }
      ]
    },
    {
      "cell_type": "markdown",
      "source": [
        "**(2.4)** - Show 3 random data instances (rows) for each class. (4 points)"
      ],
      "metadata": {
        "id": "Jx2LuBGNTPt_"
      }
    },
    {
      "cell_type": "code",
      "source": [
        "# Code for 2.4\n",
        "df_1 = tickets[tickets['Price'] =='Average'].sample(n=3) #taking a random sample from each classes\n",
        "df_2 = tickets[tickets['Price'] =='Cheap'].sample(n=3)\n",
        "df_3 = tickets[tickets['Price'] =='Expensive'].sample(n=3)\n",
        "data_sample = pd.concat([df_1,df_2,df_3]) #concatinating the 3 dataframes\n",
        "data_sample\n",
        "\n"
      ],
      "metadata": {
        "id": "i_2FSiyQTYZD",
        "colab": {
          "base_uri": "https://localhost:8080/",
          "height": 331
        },
        "outputId": "3ff41dab-a48c-4895-fb8a-da76cf6640e8"
      },
      "execution_count": null,
      "outputs": [
        {
          "output_type": "execute_result",
          "data": {
            "text/plain": [
              "      Stops       Website Booked_on Destination Depart_date Airline      Price\n",
              "2469      1   MEGO.travel    2/5/22         EZV      3/7/22      N4    Average\n",
              "941       2      Kiwi.com    2/8/22         RMI     7/24/22      W9    Average\n",
              "702       2      Kiwi.com    2/8/22         LEJ     2/14/22      DP    Average\n",
              "4147      0          OZON    2/7/22         PEE    11/22/22      S7      Cheap\n",
              "414       2  KupiBilet.ru    2/6/22         BRS      2/9/22      S7      Cheap\n",
              "1887      1  KupiBilet.ru    2/8/22         EIN     2/16/22      FR      Cheap\n",
              "3574      1  KupiBilet.ru    2/7/22         ATL     7/17/22      SU  Expensive\n",
              "1274      2      Kiwi.com    2/2/22         ACC     4/17/22      TP  Expensive\n",
              "1225      2  KupiBilet.ru    2/8/22         IXC      4/9/22      EY  Expensive"
            ],
            "text/html": [
              "\n",
              "  <div id=\"df-ae641fe4-2552-46e6-971f-848498f76f14\">\n",
              "    <div class=\"colab-df-container\">\n",
              "      <div>\n",
              "<style scoped>\n",
              "    .dataframe tbody tr th:only-of-type {\n",
              "        vertical-align: middle;\n",
              "    }\n",
              "\n",
              "    .dataframe tbody tr th {\n",
              "        vertical-align: top;\n",
              "    }\n",
              "\n",
              "    .dataframe thead th {\n",
              "        text-align: right;\n",
              "    }\n",
              "</style>\n",
              "<table border=\"1\" class=\"dataframe\">\n",
              "  <thead>\n",
              "    <tr style=\"text-align: right;\">\n",
              "      <th></th>\n",
              "      <th>Stops</th>\n",
              "      <th>Website</th>\n",
              "      <th>Booked_on</th>\n",
              "      <th>Destination</th>\n",
              "      <th>Depart_date</th>\n",
              "      <th>Airline</th>\n",
              "      <th>Price</th>\n",
              "    </tr>\n",
              "  </thead>\n",
              "  <tbody>\n",
              "    <tr>\n",
              "      <th>2469</th>\n",
              "      <td>1</td>\n",
              "      <td>MEGO.travel</td>\n",
              "      <td>2/5/22</td>\n",
              "      <td>EZV</td>\n",
              "      <td>3/7/22</td>\n",
              "      <td>N4</td>\n",
              "      <td>Average</td>\n",
              "    </tr>\n",
              "    <tr>\n",
              "      <th>941</th>\n",
              "      <td>2</td>\n",
              "      <td>Kiwi.com</td>\n",
              "      <td>2/8/22</td>\n",
              "      <td>RMI</td>\n",
              "      <td>7/24/22</td>\n",
              "      <td>W9</td>\n",
              "      <td>Average</td>\n",
              "    </tr>\n",
              "    <tr>\n",
              "      <th>702</th>\n",
              "      <td>2</td>\n",
              "      <td>Kiwi.com</td>\n",
              "      <td>2/8/22</td>\n",
              "      <td>LEJ</td>\n",
              "      <td>2/14/22</td>\n",
              "      <td>DP</td>\n",
              "      <td>Average</td>\n",
              "    </tr>\n",
              "    <tr>\n",
              "      <th>4147</th>\n",
              "      <td>0</td>\n",
              "      <td>OZON</td>\n",
              "      <td>2/7/22</td>\n",
              "      <td>PEE</td>\n",
              "      <td>11/22/22</td>\n",
              "      <td>S7</td>\n",
              "      <td>Cheap</td>\n",
              "    </tr>\n",
              "    <tr>\n",
              "      <th>414</th>\n",
              "      <td>2</td>\n",
              "      <td>KupiBilet.ru</td>\n",
              "      <td>2/6/22</td>\n",
              "      <td>BRS</td>\n",
              "      <td>2/9/22</td>\n",
              "      <td>S7</td>\n",
              "      <td>Cheap</td>\n",
              "    </tr>\n",
              "    <tr>\n",
              "      <th>1887</th>\n",
              "      <td>1</td>\n",
              "      <td>KupiBilet.ru</td>\n",
              "      <td>2/8/22</td>\n",
              "      <td>EIN</td>\n",
              "      <td>2/16/22</td>\n",
              "      <td>FR</td>\n",
              "      <td>Cheap</td>\n",
              "    </tr>\n",
              "    <tr>\n",
              "      <th>3574</th>\n",
              "      <td>1</td>\n",
              "      <td>KupiBilet.ru</td>\n",
              "      <td>2/7/22</td>\n",
              "      <td>ATL</td>\n",
              "      <td>7/17/22</td>\n",
              "      <td>SU</td>\n",
              "      <td>Expensive</td>\n",
              "    </tr>\n",
              "    <tr>\n",
              "      <th>1274</th>\n",
              "      <td>2</td>\n",
              "      <td>Kiwi.com</td>\n",
              "      <td>2/2/22</td>\n",
              "      <td>ACC</td>\n",
              "      <td>4/17/22</td>\n",
              "      <td>TP</td>\n",
              "      <td>Expensive</td>\n",
              "    </tr>\n",
              "    <tr>\n",
              "      <th>1225</th>\n",
              "      <td>2</td>\n",
              "      <td>KupiBilet.ru</td>\n",
              "      <td>2/8/22</td>\n",
              "      <td>IXC</td>\n",
              "      <td>4/9/22</td>\n",
              "      <td>EY</td>\n",
              "      <td>Expensive</td>\n",
              "    </tr>\n",
              "  </tbody>\n",
              "</table>\n",
              "</div>\n",
              "      <button class=\"colab-df-convert\" onclick=\"convertToInteractive('df-ae641fe4-2552-46e6-971f-848498f76f14')\"\n",
              "              title=\"Convert this dataframe to an interactive table.\"\n",
              "              style=\"display:none;\">\n",
              "        \n",
              "  <svg xmlns=\"http://www.w3.org/2000/svg\" height=\"24px\"viewBox=\"0 0 24 24\"\n",
              "       width=\"24px\">\n",
              "    <path d=\"M0 0h24v24H0V0z\" fill=\"none\"/>\n",
              "    <path d=\"M18.56 5.44l.94 2.06.94-2.06 2.06-.94-2.06-.94-.94-2.06-.94 2.06-2.06.94zm-11 1L8.5 8.5l.94-2.06 2.06-.94-2.06-.94L8.5 2.5l-.94 2.06-2.06.94zm10 10l.94 2.06.94-2.06 2.06-.94-2.06-.94-.94-2.06-.94 2.06-2.06.94z\"/><path d=\"M17.41 7.96l-1.37-1.37c-.4-.4-.92-.59-1.43-.59-.52 0-1.04.2-1.43.59L10.3 9.45l-7.72 7.72c-.78.78-.78 2.05 0 2.83L4 21.41c.39.39.9.59 1.41.59.51 0 1.02-.2 1.41-.59l7.78-7.78 2.81-2.81c.8-.78.8-2.07 0-2.86zM5.41 20L4 18.59l7.72-7.72 1.47 1.35L5.41 20z\"/>\n",
              "  </svg>\n",
              "      </button>\n",
              "      \n",
              "  <style>\n",
              "    .colab-df-container {\n",
              "      display:flex;\n",
              "      flex-wrap:wrap;\n",
              "      gap: 12px;\n",
              "    }\n",
              "\n",
              "    .colab-df-convert {\n",
              "      background-color: #E8F0FE;\n",
              "      border: none;\n",
              "      border-radius: 50%;\n",
              "      cursor: pointer;\n",
              "      display: none;\n",
              "      fill: #1967D2;\n",
              "      height: 32px;\n",
              "      padding: 0 0 0 0;\n",
              "      width: 32px;\n",
              "    }\n",
              "\n",
              "    .colab-df-convert:hover {\n",
              "      background-color: #E2EBFA;\n",
              "      box-shadow: 0px 1px 2px rgba(60, 64, 67, 0.3), 0px 1px 3px 1px rgba(60, 64, 67, 0.15);\n",
              "      fill: #174EA6;\n",
              "    }\n",
              "\n",
              "    [theme=dark] .colab-df-convert {\n",
              "      background-color: #3B4455;\n",
              "      fill: #D2E3FC;\n",
              "    }\n",
              "\n",
              "    [theme=dark] .colab-df-convert:hover {\n",
              "      background-color: #434B5C;\n",
              "      box-shadow: 0px 1px 3px 1px rgba(0, 0, 0, 0.15);\n",
              "      filter: drop-shadow(0px 1px 2px rgba(0, 0, 0, 0.3));\n",
              "      fill: #FFFFFF;\n",
              "    }\n",
              "  </style>\n",
              "\n",
              "      <script>\n",
              "        const buttonEl =\n",
              "          document.querySelector('#df-ae641fe4-2552-46e6-971f-848498f76f14 button.colab-df-convert');\n",
              "        buttonEl.style.display =\n",
              "          google.colab.kernel.accessAllowed ? 'block' : 'none';\n",
              "\n",
              "        async function convertToInteractive(key) {\n",
              "          const element = document.querySelector('#df-ae641fe4-2552-46e6-971f-848498f76f14');\n",
              "          const dataTable =\n",
              "            await google.colab.kernel.invokeFunction('convertToInteractive',\n",
              "                                                     [key], {});\n",
              "          if (!dataTable) return;\n",
              "\n",
              "          const docLinkHtml = 'Like what you see? Visit the ' +\n",
              "            '<a target=\"_blank\" href=https://colab.research.google.com/notebooks/data_table.ipynb>data table notebook</a>'\n",
              "            + ' to learn more about interactive tables.';\n",
              "          element.innerHTML = '';\n",
              "          dataTable['output_type'] = 'display_data';\n",
              "          await google.colab.output.renderOutput(dataTable, element);\n",
              "          const docLink = document.createElement('div');\n",
              "          docLink.innerHTML = docLinkHtml;\n",
              "          element.appendChild(docLink);\n",
              "        }\n",
              "      </script>\n",
              "    </div>\n",
              "  </div>\n",
              "  "
            ]
          },
          "metadata": {},
          "execution_count": 102
        }
      ]
    },
    {
      "cell_type": "markdown",
      "source": [
        "**(2.5)** - Show the **number** of distinct values in each of these columns: `Stops`, `Website`, `Booked_on`, `Destination`, `Depart_date`, and `Airline`. (4 points)"
      ],
      "metadata": {
        "id": "1FvDWC1yRMJI"
      }
    },
    {
      "cell_type": "code",
      "source": [
        "# Code for 2.5\n",
        "a=['Stops','Website','Booked_on','Destination','Depart_date','Airline'] #created a new list with required column names\n",
        "for i in a:\n",
        "  print(i,\":\",tickets[i].nunique())\n"
      ],
      "metadata": {
        "id": "yoJ2ccqGRYYZ",
        "colab": {
          "base_uri": "https://localhost:8080/"
        },
        "outputId": "45b23912-df30-4496-ffb0-3f8b2aab9ec1"
      },
      "execution_count": null,
      "outputs": [
        {
          "output_type": "stream",
          "name": "stdout",
          "text": [
            "Stops : 6\n",
            "Website : 56\n",
            "Booked_on : 8\n",
            "Destination : 956\n",
            "Depart_date : 327\n",
            "Airline : 114\n"
          ]
        }
      ]
    },
    {
      "cell_type": "markdown",
      "source": [
        "**(2.6)** - Find the earliest and the latest dates in the `Booked_on` column. (4 points)"
      ],
      "metadata": {
        "id": "NY8G_CRzP_ff"
      }
    },
    {
      "cell_type": "code",
      "source": [
        "# Code for 2.6\n",
        "print('earliest date :',tickets['Booked_on'].min())\n",
        "print('latest date :',tickets['Booked_on'].max())"
      ],
      "metadata": {
        "id": "EPK-awuZP2PH",
        "colab": {
          "base_uri": "https://localhost:8080/"
        },
        "outputId": "e2e72862-7a6a-45c7-c80f-8fadcf39b794"
      },
      "execution_count": null,
      "outputs": [
        {
          "output_type": "stream",
          "name": "stdout",
          "text": [
            "earliest date : 2/2/22\n",
            "latest date : 2/9/22\n"
          ]
        }
      ]
    },
    {
      "cell_type": "markdown",
      "metadata": {
        "id": "AeBRG1UzMmHc"
      },
      "source": [
        "## **Task 3: Build and evaluate classification models (48 points)**\n",
        "\n",
        "In this task, we use the Python `scikit-learn` library to build a kNN classifier on the air ticket dataset. The classifier predicts whether the price of a ticket is cheap, average, or expensive. Note that these are the three distinct values in column `Price`. \n"
      ]
    },
    {
      "cell_type": "markdown",
      "source": [
        "The air ticket dataset has several categorical attributes. In `scikit-learn`, there are limited ways of building models that directly work with catagorical attributes. Oftentimes we need to preprocess such attributes before we can build and evaluate models. More specifically, we need to encode such attributes in numeric values."
      ],
      "metadata": {
        "id": "He-DW9NIQXXi"
      }
    },
    {
      "cell_type": "markdown",
      "source": [
        "**(3.1)** **- Nominal attributes**\n",
        "\n",
        "Based on what we learned earlier in this semester, the columns `Destination`, `Airline`, and `Website` are nominal attributes, as there isn't a meaningful order among the attribute values. Write a piece of code to transform these three attributes into numerical attributes using *label encoding*. More specifically, assign one distinct integer for each distinct value in such an attribute. Use `preprocessing.LabelEncoder()` from the `sklearn` library. See a few examples in this [link](https://scikit-learn.org/stable/modules/generated/sklearn.preprocessing.LabelEncoder.html). \n",
        "\n",
        "Fill in your code in the code block below. If your code is correct, the last line `tickets.head(5)` should return similar output under the code block. \n",
        "\n",
        "(4 points)"
      ],
      "metadata": {
        "id": "9i6Em8O4RHZI"
      }
    },
    {
      "cell_type": "code",
      "source": [
        "# Code for 3.1\n",
        "from sklearn import preprocessing\n",
        "\n",
        "label_encoder = preprocessing.LabelEncoder()\n",
        "\n",
        "tickets['Airline'] = label_encoder.fit_transform(tickets['Airline'])\n",
        "# DO NOT CHANGE ANYTHING ABOVE. FILL IN YOUR CODE BELOW.\n",
        "tickets['Destination'] = label_encoder.fit_transform(tickets['Destination'])\n",
        "tickets['Website'] = label_encoder.fit_transform(tickets['Website'])\n",
        "\n",
        "\n",
        "\n",
        "# DO NOT CHANGE ANYTHING BELOW. FILL IN YOUR CODE ABOVE.\n",
        "tickets.head(5) "
      ],
      "metadata": {
        "colab": {
          "base_uri": "https://localhost:8080/",
          "height": 206
        },
        "id": "NtEVI7cpTaaO",
        "outputId": "4f5d38e1-439a-44b2-cb59-44af43158f23"
      },
      "execution_count": null,
      "outputs": [
        {
          "output_type": "execute_result",
          "data": {
            "text/plain": [
              "   Stops  Website Booked_on  Destination Depart_date  Airline      Price\n",
              "0      5       23    2/7/22          942     4/30/22      106  Expensive\n",
              "1      4       23    2/8/22          242     2/27/22       27      Cheap\n",
              "2      4       23    2/5/22          321     4/10/22       17  Expensive\n",
              "3      4       23    2/8/22          943     5/11/22      106  Expensive\n",
              "4      4       23    2/9/22          485     5/11/22       15  Expensive"
            ],
            "text/html": [
              "\n",
              "  <div id=\"df-3bb19957-7c43-42a1-8d6d-7448510e5464\">\n",
              "    <div class=\"colab-df-container\">\n",
              "      <div>\n",
              "<style scoped>\n",
              "    .dataframe tbody tr th:only-of-type {\n",
              "        vertical-align: middle;\n",
              "    }\n",
              "\n",
              "    .dataframe tbody tr th {\n",
              "        vertical-align: top;\n",
              "    }\n",
              "\n",
              "    .dataframe thead th {\n",
              "        text-align: right;\n",
              "    }\n",
              "</style>\n",
              "<table border=\"1\" class=\"dataframe\">\n",
              "  <thead>\n",
              "    <tr style=\"text-align: right;\">\n",
              "      <th></th>\n",
              "      <th>Stops</th>\n",
              "      <th>Website</th>\n",
              "      <th>Booked_on</th>\n",
              "      <th>Destination</th>\n",
              "      <th>Depart_date</th>\n",
              "      <th>Airline</th>\n",
              "      <th>Price</th>\n",
              "    </tr>\n",
              "  </thead>\n",
              "  <tbody>\n",
              "    <tr>\n",
              "      <th>0</th>\n",
              "      <td>5</td>\n",
              "      <td>23</td>\n",
              "      <td>2/7/22</td>\n",
              "      <td>942</td>\n",
              "      <td>4/30/22</td>\n",
              "      <td>106</td>\n",
              "      <td>Expensive</td>\n",
              "    </tr>\n",
              "    <tr>\n",
              "      <th>1</th>\n",
              "      <td>4</td>\n",
              "      <td>23</td>\n",
              "      <td>2/8/22</td>\n",
              "      <td>242</td>\n",
              "      <td>2/27/22</td>\n",
              "      <td>27</td>\n",
              "      <td>Cheap</td>\n",
              "    </tr>\n",
              "    <tr>\n",
              "      <th>2</th>\n",
              "      <td>4</td>\n",
              "      <td>23</td>\n",
              "      <td>2/5/22</td>\n",
              "      <td>321</td>\n",
              "      <td>4/10/22</td>\n",
              "      <td>17</td>\n",
              "      <td>Expensive</td>\n",
              "    </tr>\n",
              "    <tr>\n",
              "      <th>3</th>\n",
              "      <td>4</td>\n",
              "      <td>23</td>\n",
              "      <td>2/8/22</td>\n",
              "      <td>943</td>\n",
              "      <td>5/11/22</td>\n",
              "      <td>106</td>\n",
              "      <td>Expensive</td>\n",
              "    </tr>\n",
              "    <tr>\n",
              "      <th>4</th>\n",
              "      <td>4</td>\n",
              "      <td>23</td>\n",
              "      <td>2/9/22</td>\n",
              "      <td>485</td>\n",
              "      <td>5/11/22</td>\n",
              "      <td>15</td>\n",
              "      <td>Expensive</td>\n",
              "    </tr>\n",
              "  </tbody>\n",
              "</table>\n",
              "</div>\n",
              "      <button class=\"colab-df-convert\" onclick=\"convertToInteractive('df-3bb19957-7c43-42a1-8d6d-7448510e5464')\"\n",
              "              title=\"Convert this dataframe to an interactive table.\"\n",
              "              style=\"display:none;\">\n",
              "        \n",
              "  <svg xmlns=\"http://www.w3.org/2000/svg\" height=\"24px\"viewBox=\"0 0 24 24\"\n",
              "       width=\"24px\">\n",
              "    <path d=\"M0 0h24v24H0V0z\" fill=\"none\"/>\n",
              "    <path d=\"M18.56 5.44l.94 2.06.94-2.06 2.06-.94-2.06-.94-.94-2.06-.94 2.06-2.06.94zm-11 1L8.5 8.5l.94-2.06 2.06-.94-2.06-.94L8.5 2.5l-.94 2.06-2.06.94zm10 10l.94 2.06.94-2.06 2.06-.94-2.06-.94-.94-2.06-.94 2.06-2.06.94z\"/><path d=\"M17.41 7.96l-1.37-1.37c-.4-.4-.92-.59-1.43-.59-.52 0-1.04.2-1.43.59L10.3 9.45l-7.72 7.72c-.78.78-.78 2.05 0 2.83L4 21.41c.39.39.9.59 1.41.59.51 0 1.02-.2 1.41-.59l7.78-7.78 2.81-2.81c.8-.78.8-2.07 0-2.86zM5.41 20L4 18.59l7.72-7.72 1.47 1.35L5.41 20z\"/>\n",
              "  </svg>\n",
              "      </button>\n",
              "      \n",
              "  <style>\n",
              "    .colab-df-container {\n",
              "      display:flex;\n",
              "      flex-wrap:wrap;\n",
              "      gap: 12px;\n",
              "    }\n",
              "\n",
              "    .colab-df-convert {\n",
              "      background-color: #E8F0FE;\n",
              "      border: none;\n",
              "      border-radius: 50%;\n",
              "      cursor: pointer;\n",
              "      display: none;\n",
              "      fill: #1967D2;\n",
              "      height: 32px;\n",
              "      padding: 0 0 0 0;\n",
              "      width: 32px;\n",
              "    }\n",
              "\n",
              "    .colab-df-convert:hover {\n",
              "      background-color: #E2EBFA;\n",
              "      box-shadow: 0px 1px 2px rgba(60, 64, 67, 0.3), 0px 1px 3px 1px rgba(60, 64, 67, 0.15);\n",
              "      fill: #174EA6;\n",
              "    }\n",
              "\n",
              "    [theme=dark] .colab-df-convert {\n",
              "      background-color: #3B4455;\n",
              "      fill: #D2E3FC;\n",
              "    }\n",
              "\n",
              "    [theme=dark] .colab-df-convert:hover {\n",
              "      background-color: #434B5C;\n",
              "      box-shadow: 0px 1px 3px 1px rgba(0, 0, 0, 0.15);\n",
              "      filter: drop-shadow(0px 1px 2px rgba(0, 0, 0, 0.3));\n",
              "      fill: #FFFFFF;\n",
              "    }\n",
              "  </style>\n",
              "\n",
              "      <script>\n",
              "        const buttonEl =\n",
              "          document.querySelector('#df-3bb19957-7c43-42a1-8d6d-7448510e5464 button.colab-df-convert');\n",
              "        buttonEl.style.display =\n",
              "          google.colab.kernel.accessAllowed ? 'block' : 'none';\n",
              "\n",
              "        async function convertToInteractive(key) {\n",
              "          const element = document.querySelector('#df-3bb19957-7c43-42a1-8d6d-7448510e5464');\n",
              "          const dataTable =\n",
              "            await google.colab.kernel.invokeFunction('convertToInteractive',\n",
              "                                                     [key], {});\n",
              "          if (!dataTable) return;\n",
              "\n",
              "          const docLinkHtml = 'Like what you see? Visit the ' +\n",
              "            '<a target=\"_blank\" href=https://colab.research.google.com/notebooks/data_table.ipynb>data table notebook</a>'\n",
              "            + ' to learn more about interactive tables.';\n",
              "          element.innerHTML = '';\n",
              "          dataTable['output_type'] = 'display_data';\n",
              "          await google.colab.output.renderOutput(dataTable, element);\n",
              "          const docLink = document.createElement('div');\n",
              "          docLink.innerHTML = docLinkHtml;\n",
              "          element.appendChild(docLink);\n",
              "        }\n",
              "      </script>\n",
              "    </div>\n",
              "  </div>\n",
              "  "
            ]
          },
          "metadata": {},
          "execution_count": 105
        }
      ]
    },
    {
      "cell_type": "markdown",
      "source": [
        "**(3.2)** - Now, let's convert the values in columns `Booked_on` and `Depart_date` from string to `datetime` (https://pandas.pydata.org/docs/reference/api/pandas.to_datetime.html).  (4 points)"
      ],
      "metadata": {
        "id": "E-HLy2CUexzm"
      }
    },
    {
      "cell_type": "code",
      "source": [
        "# Code for 3.2\n",
        "tickets['Booked_on'] =  pd.to_datetime(tickets['Booked_on']) #converting it to datetime format\n",
        "tickets['Depart_date'] =  pd.to_datetime(tickets['Depart_date'])\n",
        "\n"
      ],
      "metadata": {
        "id": "KHdmkWRjvNA-"
      },
      "execution_count": null,
      "outputs": []
    },
    {
      "cell_type": "markdown",
      "source": [
        "**(3.3) Dates** \n",
        "\n",
        "Let's create separate columns for months and days---new columns `Booked_month` and `Booked_day` to replace `Booked_on`, and similarly new columns `Depart_month` and `Depart_day` to replace `Depart_date`. For example, given a row with value `2/7/22` in column `Booked_on`, it should have value `2` in column `Booked_month` and ‍‌v‍‌a‍‌l‍‌u‍‌e‍‌ ‍‌`‍‌7‍‌` in `Booked_day`. We do not need new columns for years, since all rows are tickets in 2022. \n",
        "\n",
        "Note that in (3.2) we converted `Booked_on` and `Depart_date` into type `datatime`. Check out this page to find out how to fetch the month and the day in a value of type `datatime`: https://docs.python.org/3/library/datetime.html#datetime.date.month.\n",
        "\n",
        "(4 points)"
      ],
      "metadata": {
        "id": "Ubr4QEBOvGMR"
      }
    },
    {
      "cell_type": "code",
      "source": [
        "# Code for 3.3\n",
        "tickets['Booked_month'] = tickets['Booked_on'].dt.month #creating a new columns \n",
        "tickets['Booked_day'] = tickets['Booked_on'].dt.day\n",
        "tickets['Depart_month'] = tickets['Depart_date'].dt.month\n",
        "tickets['Depart_day'] = tickets['Depart_date'].dt.day\n",
        "\n"
      ],
      "metadata": {
        "id": "PgnZPUbSa5fo"
      },
      "execution_count": null,
      "outputs": []
    },
    {
      "cell_type": "markdown",
      "source": [
        "**(3.4)** - Remove columns `Booked_on` and `Depart_date` from the `DataFrame` `tickets`. We only need to use the 4 newly created columns from (3.3). (4 points)"
      ],
      "metadata": {
        "id": "tsSu4F7vvlQA"
      }
    },
    {
      "cell_type": "code",
      "source": [
        "# Code for 3.4\n",
        "tickets.drop(['Booked_on','Depart_date'],axis=1,inplace=True) #dropping the 'Booked_on'and 'Depart_date' columns\n",
        "\n",
        "\n",
        "# DO NOT CHANGE ANYTHING BELOW. FILL IN YOUR CODE ABOVE.\n",
        "tickets.head(5)"
      ],
      "metadata": {
        "colab": {
          "base_uri": "https://localhost:8080/",
          "height": 206
        },
        "id": "oRTQnv7FvkyL",
        "outputId": "decda05d-0132-4706-bb1c-85b0002d379e"
      },
      "execution_count": null,
      "outputs": [
        {
          "output_type": "execute_result",
          "data": {
            "text/plain": [
              "   Stops  Website  Destination  Airline      Price  Booked_month  Booked_day  \\\n",
              "0      5       23          942      106  Expensive             2           7   \n",
              "1      4       23          242       27      Cheap             2           8   \n",
              "2      4       23          321       17  Expensive             2           5   \n",
              "3      4       23          943      106  Expensive             2           8   \n",
              "4      4       23          485       15  Expensive             2           9   \n",
              "\n",
              "   Depart_month  Depart_day  \n",
              "0             4          30  \n",
              "1             2          27  \n",
              "2             4          10  \n",
              "3             5          11  \n",
              "4             5          11  "
            ],
            "text/html": [
              "\n",
              "  <div id=\"df-7c00e1ea-1090-4d11-9c8c-9c153727af6d\">\n",
              "    <div class=\"colab-df-container\">\n",
              "      <div>\n",
              "<style scoped>\n",
              "    .dataframe tbody tr th:only-of-type {\n",
              "        vertical-align: middle;\n",
              "    }\n",
              "\n",
              "    .dataframe tbody tr th {\n",
              "        vertical-align: top;\n",
              "    }\n",
              "\n",
              "    .dataframe thead th {\n",
              "        text-align: right;\n",
              "    }\n",
              "</style>\n",
              "<table border=\"1\" class=\"dataframe\">\n",
              "  <thead>\n",
              "    <tr style=\"text-align: right;\">\n",
              "      <th></th>\n",
              "      <th>Stops</th>\n",
              "      <th>Website</th>\n",
              "      <th>Destination</th>\n",
              "      <th>Airline</th>\n",
              "      <th>Price</th>\n",
              "      <th>Booked_month</th>\n",
              "      <th>Booked_day</th>\n",
              "      <th>Depart_month</th>\n",
              "      <th>Depart_day</th>\n",
              "    </tr>\n",
              "  </thead>\n",
              "  <tbody>\n",
              "    <tr>\n",
              "      <th>0</th>\n",
              "      <td>5</td>\n",
              "      <td>23</td>\n",
              "      <td>942</td>\n",
              "      <td>106</td>\n",
              "      <td>Expensive</td>\n",
              "      <td>2</td>\n",
              "      <td>7</td>\n",
              "      <td>4</td>\n",
              "      <td>30</td>\n",
              "    </tr>\n",
              "    <tr>\n",
              "      <th>1</th>\n",
              "      <td>4</td>\n",
              "      <td>23</td>\n",
              "      <td>242</td>\n",
              "      <td>27</td>\n",
              "      <td>Cheap</td>\n",
              "      <td>2</td>\n",
              "      <td>8</td>\n",
              "      <td>2</td>\n",
              "      <td>27</td>\n",
              "    </tr>\n",
              "    <tr>\n",
              "      <th>2</th>\n",
              "      <td>4</td>\n",
              "      <td>23</td>\n",
              "      <td>321</td>\n",
              "      <td>17</td>\n",
              "      <td>Expensive</td>\n",
              "      <td>2</td>\n",
              "      <td>5</td>\n",
              "      <td>4</td>\n",
              "      <td>10</td>\n",
              "    </tr>\n",
              "    <tr>\n",
              "      <th>3</th>\n",
              "      <td>4</td>\n",
              "      <td>23</td>\n",
              "      <td>943</td>\n",
              "      <td>106</td>\n",
              "      <td>Expensive</td>\n",
              "      <td>2</td>\n",
              "      <td>8</td>\n",
              "      <td>5</td>\n",
              "      <td>11</td>\n",
              "    </tr>\n",
              "    <tr>\n",
              "      <th>4</th>\n",
              "      <td>4</td>\n",
              "      <td>23</td>\n",
              "      <td>485</td>\n",
              "      <td>15</td>\n",
              "      <td>Expensive</td>\n",
              "      <td>2</td>\n",
              "      <td>9</td>\n",
              "      <td>5</td>\n",
              "      <td>11</td>\n",
              "    </tr>\n",
              "  </tbody>\n",
              "</table>\n",
              "</div>\n",
              "      <button class=\"colab-df-convert\" onclick=\"convertToInteractive('df-7c00e1ea-1090-4d11-9c8c-9c153727af6d')\"\n",
              "              title=\"Convert this dataframe to an interactive table.\"\n",
              "              style=\"display:none;\">\n",
              "        \n",
              "  <svg xmlns=\"http://www.w3.org/2000/svg\" height=\"24px\"viewBox=\"0 0 24 24\"\n",
              "       width=\"24px\">\n",
              "    <path d=\"M0 0h24v24H0V0z\" fill=\"none\"/>\n",
              "    <path d=\"M18.56 5.44l.94 2.06.94-2.06 2.06-.94-2.06-.94-.94-2.06-.94 2.06-2.06.94zm-11 1L8.5 8.5l.94-2.06 2.06-.94-2.06-.94L8.5 2.5l-.94 2.06-2.06.94zm10 10l.94 2.06.94-2.06 2.06-.94-2.06-.94-.94-2.06-.94 2.06-2.06.94z\"/><path d=\"M17.41 7.96l-1.37-1.37c-.4-.4-.92-.59-1.43-.59-.52 0-1.04.2-1.43.59L10.3 9.45l-7.72 7.72c-.78.78-.78 2.05 0 2.83L4 21.41c.39.39.9.59 1.41.59.51 0 1.02-.2 1.41-.59l7.78-7.78 2.81-2.81c.8-.78.8-2.07 0-2.86zM5.41 20L4 18.59l7.72-7.72 1.47 1.35L5.41 20z\"/>\n",
              "  </svg>\n",
              "      </button>\n",
              "      \n",
              "  <style>\n",
              "    .colab-df-container {\n",
              "      display:flex;\n",
              "      flex-wrap:wrap;\n",
              "      gap: 12px;\n",
              "    }\n",
              "\n",
              "    .colab-df-convert {\n",
              "      background-color: #E8F0FE;\n",
              "      border: none;\n",
              "      border-radius: 50%;\n",
              "      cursor: pointer;\n",
              "      display: none;\n",
              "      fill: #1967D2;\n",
              "      height: 32px;\n",
              "      padding: 0 0 0 0;\n",
              "      width: 32px;\n",
              "    }\n",
              "\n",
              "    .colab-df-convert:hover {\n",
              "      background-color: #E2EBFA;\n",
              "      box-shadow: 0px 1px 2px rgba(60, 64, 67, 0.3), 0px 1px 3px 1px rgba(60, 64, 67, 0.15);\n",
              "      fill: #174EA6;\n",
              "    }\n",
              "\n",
              "    [theme=dark] .colab-df-convert {\n",
              "      background-color: #3B4455;\n",
              "      fill: #D2E3FC;\n",
              "    }\n",
              "\n",
              "    [theme=dark] .colab-df-convert:hover {\n",
              "      background-color: #434B5C;\n",
              "      box-shadow: 0px 1px 3px 1px rgba(0, 0, 0, 0.15);\n",
              "      filter: drop-shadow(0px 1px 2px rgba(0, 0, 0, 0.3));\n",
              "      fill: #FFFFFF;\n",
              "    }\n",
              "  </style>\n",
              "\n",
              "      <script>\n",
              "        const buttonEl =\n",
              "          document.querySelector('#df-7c00e1ea-1090-4d11-9c8c-9c153727af6d button.colab-df-convert');\n",
              "        buttonEl.style.display =\n",
              "          google.colab.kernel.accessAllowed ? 'block' : 'none';\n",
              "\n",
              "        async function convertToInteractive(key) {\n",
              "          const element = document.querySelector('#df-7c00e1ea-1090-4d11-9c8c-9c153727af6d');\n",
              "          const dataTable =\n",
              "            await google.colab.kernel.invokeFunction('convertToInteractive',\n",
              "                                                     [key], {});\n",
              "          if (!dataTable) return;\n",
              "\n",
              "          const docLinkHtml = 'Like what you see? Visit the ' +\n",
              "            '<a target=\"_blank\" href=https://colab.research.google.com/notebooks/data_table.ipynb>data table notebook</a>'\n",
              "            + ' to learn more about interactive tables.';\n",
              "          element.innerHTML = '';\n",
              "          dataTable['output_type'] = 'display_data';\n",
              "          await google.colab.output.renderOutput(dataTable, element);\n",
              "          const docLink = document.createElement('div');\n",
              "          docLink.innerHTML = docLinkHtml;\n",
              "          element.appendChild(docLink);\n",
              "        }\n",
              "      </script>\n",
              "    </div>\n",
              "  </div>\n",
              "  "
            ]
          },
          "metadata": {},
          "execution_count": 108
        }
      ]
    },
    {
      "cell_type": "markdown",
      "source": [
        "**(3.5)** - Separate the class labels from the features. The features should be in a `DataFrame` `tickets_feature` and the class labels should be in a `Series` (one column) `tickets_class`. Refer to the expected output under the code block below. The [instructional Colab on Linear Model](https://colab.research.google.com/drive/18hXzJCPuLa6bLxIA2BuCD20w8EOnuKM7?usp=sharing) has some example of this. (6 points)"
      ],
      "metadata": {
        "id": "BDttzhvwWRdb"
      }
    },
    {
      "cell_type": "code",
      "source": [
        "pd.set_option('display.max_columns', 10)"
      ],
      "metadata": {
        "id": "2kKt0b_Ay7ZA"
      },
      "execution_count": null,
      "outputs": []
    },
    {
      "cell_type": "code",
      "source": [
        "# Code for 3.5\n",
        "tickets_feature = tickets.drop(['Price'],axis=1) #dataframe which contains input data\n",
        "tickets_class = tickets['Price'] \n",
        "\n",
        "\n",
        "# DO NOT CHANGE ANYTHING BELOW. FILL IN YOUR CODE ABOVE.\n",
        "print(\"The first five rows of tickets_feature: \")\n",
        "print()\n",
        "print( tickets_feature.head(5))\n",
        "print(\"The first five rows of tickets_class: \")\n",
        "print()\n",
        "print( tickets_class.head(5))"
      ],
      "metadata": {
        "id": "fQUODN0jWQU0",
        "colab": {
          "base_uri": "https://localhost:8080/"
        },
        "outputId": "7c20470f-d392-4bc9-e57c-a1cb397f9cdb"
      },
      "execution_count": null,
      "outputs": [
        {
          "output_type": "stream",
          "name": "stdout",
          "text": [
            "The first five rows of tickets_feature: \n",
            "\n",
            "   Stops  Website  Destination  Airline  Booked_month  Booked_day  \\\n",
            "0      5       23          942      106             2           7   \n",
            "1      4       23          242       27             2           8   \n",
            "2      4       23          321       17             2           5   \n",
            "3      4       23          943      106             2           8   \n",
            "4      4       23          485       15             2           9   \n",
            "\n",
            "   Depart_month  Depart_day  \n",
            "0             4          30  \n",
            "1             2          27  \n",
            "2             4          10  \n",
            "3             5          11  \n",
            "4             5          11  \n",
            "The first five rows of tickets_class: \n",
            "\n",
            "0    Expensive\n",
            "1        Cheap\n",
            "2    Expensive\n",
            "3    Expensive\n",
            "4    Expensive\n",
            "Name: Price, dtype: object\n"
          ]
        }
      ]
    },
    {
      "cell_type": "markdown",
      "source": [
        "**(3.6)** - Partition your dataset into training and test and use stratified sampling. Use 80% of the data for tarining and 20% for test. (6 points)"
      ],
      "metadata": {
        "id": "clvVSH2efFwF"
      }
    },
    {
      "cell_type": "code",
      "source": [
        "# Code for 3.6\n",
        "from sklearn.model_selection import train_test_split\n",
        "x_train,x_test,y_train,y_test = train_test_split(tickets_feature,tickets_class,test_size=0.2,stratify=tickets_class,random_state=12)\n",
        "\n"
      ],
      "metadata": {
        "id": "eaoqqRi4gerQ"
      },
      "execution_count": null,
      "outputs": []
    },
    {
      "cell_type": "markdown",
      "source": [
        "**(3.7)** - Create a 3-nearest neighbor model and train your model. (6 points)"
      ],
      "metadata": {
        "id": "xmCqG2aLgk7e"
      }
    },
    {
      "cell_type": "code",
      "source": [
        "# Code for 3.7\n",
        "from sklearn.neighbors import KNeighborsClassifier\n",
        "knn = KNeighborsClassifier(n_neighbors=3)\n",
        "knn.fit(x_train,y_train)\n"
      ],
      "metadata": {
        "id": "6b3yY9nygkhv",
        "colab": {
          "base_uri": "https://localhost:8080/"
        },
        "outputId": "520dc3bb-027d-41fb-9c7d-e5b22f380830"
      },
      "execution_count": null,
      "outputs": [
        {
          "output_type": "execute_result",
          "data": {
            "text/plain": [
              "KNeighborsClassifier(n_neighbors=3)"
            ]
          },
          "metadata": {},
          "execution_count": 112
        }
      ]
    },
    {
      "cell_type": "markdown",
      "source": [
        "**(3.8)** - Evaluate your model using the test set. Produce the model's accruacy, confusion matrix, and classification report, as shown in the output below. (6 points)"
      ],
      "metadata": {
        "id": "_OD8e2PehiYL"
      }
    },
    {
      "cell_type": "code",
      "source": [
        "y_pred = knn.predict(x_test)\n",
        "from sklearn.metrics import accuracy_score\n",
        "from sklearn.metrics import confusion_matrix,classification_report\n",
        "print(\"Test set accuracy:\",accuracy_score(y_test,y_pred))\n",
        "print(\"\\nConfusion Matrix:\")\n",
        "print(pd.crosstab(y_test,y_pred,rownames=['True'],colnames=['Predicted'],margins=True))\n",
        "\n",
        "print(\"\\nClassification report:\")\n",
        "print(classification_report(y_test,y_pred))"
      ],
      "metadata": {
        "colab": {
          "base_uri": "https://localhost:8080/"
        },
        "id": "84qM9xujMJLx",
        "outputId": "8a91e1d2-0a7d-419b-d73d-b0965924719c"
      },
      "execution_count": null,
      "outputs": [
        {
          "output_type": "stream",
          "name": "stdout",
          "text": [
            "Test set accuracy: 0.5755015839493136\n",
            "\n",
            "Confusion Matrix:\n",
            "Predicted  Average  Cheap  Expensive  All\n",
            "True                                     \n",
            "Average        173     89         45  307\n",
            "Cheap          106    215         35  356\n",
            "Expensive       78     49        157  284\n",
            "All            357    353        237  947\n",
            "\n",
            "Classification report:\n",
            "              precision    recall  f1-score   support\n",
            "\n",
            "     Average       0.48      0.56      0.52       307\n",
            "       Cheap       0.61      0.60      0.61       356\n",
            "   Expensive       0.66      0.55      0.60       284\n",
            "\n",
            "    accuracy                           0.58       947\n",
            "   macro avg       0.59      0.57      0.58       947\n",
            "weighted avg       0.58      0.58      0.58       947\n",
            "\n"
          ]
        }
      ]
    },
    {
      "cell_type": "markdown",
      "source": [
        "**(3.9)** - Let's fetch a new data file `newData.csv`. It has 10 data instances. Create a `DataFrame` named `new_data` using this data file. (4 points) "
      ],
      "metadata": {
        "id": "UdEJdlldi1qf"
      }
    },
    {
      "cell_type": "code",
      "source": [
        "# Code for 3.9\n",
        "!wget -O newData.csv \"https://drive.google.com/uc?export=download&id=1sDdj_FV5yXX0uSBWfzayCpwDdBjqaNtG\"\n",
        "# DO NOT CHANGE ANYTHING ABOVE. FILL IN YOUR CODE BELOW.\n",
        "new_data = pd.read_csv(\"newData.csv\")\n",
        "\n",
        "\n"
      ],
      "metadata": {
        "id": "qCGq8bvLjSWM",
        "colab": {
          "base_uri": "https://localhost:8080/"
        },
        "outputId": "3474efa6-e6db-4b9c-ddf5-9222f729f7f1"
      },
      "execution_count": null,
      "outputs": [
        {
          "output_type": "stream",
          "name": "stdout",
          "text": [
            "--2022-03-12 00:54:40--  https://drive.google.com/uc?export=download&id=1sDdj_FV5yXX0uSBWfzayCpwDdBjqaNtG\n",
            "Resolving drive.google.com (drive.google.com)... 142.250.81.206, 2607:f8b0:4004:82f::200e\n",
            "Connecting to drive.google.com (drive.google.com)|142.250.81.206|:443... connected.\n",
            "HTTP request sent, awaiting response... 303 See Other\n",
            "Location: https://doc-14-78-docs.googleusercontent.com/docs/securesc/ha0ro937gcuc7l7deffksulhg5h7mbp1/v3k91stqgbj2tovubarlmm2kgqti6dbi/1647046425000/15814610165147367942/*/1sDdj_FV5yXX0uSBWfzayCpwDdBjqaNtG?e=download [following]\n",
            "Warning: wildcards not supported in HTTP.\n",
            "--2022-03-12 00:54:41--  https://doc-14-78-docs.googleusercontent.com/docs/securesc/ha0ro937gcuc7l7deffksulhg5h7mbp1/v3k91stqgbj2tovubarlmm2kgqti6dbi/1647046425000/15814610165147367942/*/1sDdj_FV5yXX0uSBWfzayCpwDdBjqaNtG?e=download\n",
            "Resolving doc-14-78-docs.googleusercontent.com (doc-14-78-docs.googleusercontent.com)... 142.251.45.97, 2607:f8b0:4004:83f::2001\n",
            "Connecting to doc-14-78-docs.googleusercontent.com (doc-14-78-docs.googleusercontent.com)|142.251.45.97|:443... connected.\n",
            "HTTP request sent, awaiting response... 200 OK\n",
            "Length: 301 [text/csv]\n",
            "Saving to: ‘newData.csv’\n",
            "\n",
            "newData.csv         100%[===================>]     301  --.-KB/s    in 0s      \n",
            "\n",
            "2022-03-12 00:54:41 (10.5 MB/s) - ‘newData.csv’ saved [301/301]\n",
            "\n"
          ]
        }
      ]
    },
    {
      "cell_type": "markdown",
      "source": [
        "**(3.10)** - Apply your 3NN model on the new data points in `new data` and report the output class labels which shall be stored in `prediction`. Refer to the example output below. (4 points)"
      ],
      "metadata": {
        "id": "LHMPgAlujUsz"
      }
    },
    {
      "cell_type": "code",
      "metadata": {
        "id": "i3MYSZw9jYB5",
        "colab": {
          "base_uri": "https://localhost:8080/"
        },
        "outputId": "138ce986-ecbb-4ebe-ab4d-d268f277ecd8"
      },
      "source": [
        "# Code for 3.10\n",
        "prediction = knn.predict(new_data)\n",
        "\n",
        "\n",
        "\n",
        "# DO NOT CHANGE ANYTHING BELOW. FILL IN YOUR CODE ABOVE.\n",
        "print(\"Class labels for the 10 new data points: \", prediction)"
      ],
      "execution_count": null,
      "outputs": [
        {
          "output_type": "stream",
          "name": "stdout",
          "text": [
            "Class labels for the 10 new data points:  ['Average' 'Cheap' 'Expensive' 'Expensive' 'Average' 'Average' 'Average'\n",
            " 'Average' 'Average' 'Average']\n"
          ]
        }
      ]
    },
    {
      "cell_type": "code",
      "source": [],
      "metadata": {
        "id": "Ogwi-n48OC53"
      },
      "execution_count": null,
      "outputs": []
    }
  ]
}